{
  "nbformat": 4,
  "nbformat_minor": 0,
  "metadata": {
    "colab": {
      "provenance": [],
      "authorship_tag": "ABX9TyM3Eq+vJ1gPGzk+iDpYTecx",
      "include_colab_link": true
    },
    "kernelspec": {
      "name": "python3",
      "display_name": "Python 3"
    },
    "language_info": {
      "name": "python"
    }
  },
  "cells": [
    {
      "cell_type": "markdown",
      "metadata": {
        "id": "view-in-github",
        "colab_type": "text"
      },
      "source": [
        "<a href=\"https://colab.research.google.com/github/eastwellext/GPT_API_free/blob/main/openai/A_FirstOK.ipynb\" target=\"_parent\"><img src=\"https://colab.research.google.com/assets/colab-badge.svg\" alt=\"Open In Colab\"/></a>"
      ]
    },
    {
      "cell_type": "code",
      "execution_count": null,
      "metadata": {
        "colab": {
          "base_uri": "https://localhost:8080/"
        },
        "id": "H7QvIOU9XSc2",
        "outputId": "4494f7b4-8cfb-43f1-ba8d-d1dafa80dc6f"
      },
      "outputs": [
        {
          "output_type": "stream",
          "name": "stdout",
          "text": [
            "{\n",
            "    \"name\": \"Ten Hag\"\n",
            "}\n"
          ]
        }
      ],
      "source": [
        "# !pip install openai\n",
        "\n",
        "import openai\n",
        "import os\n",
        "\n",
        "openai.api_key = \"sk-6LoxKmdbJukKWfG87RQv1QGfs3SId3CZHv1h4cDvG1HW5heB\"\n",
        "openai.api_base = \"https://api.chatanywhere.cn/v1\"\n",
        "\n",
        "prompt = \"\"\"\n",
        "Man Utd must win trophies, says Ten Hag ahead of League Cup final\n",
        "\n",
        "请将上面这句话的人名提取出来，并用json的方式展示出来\n",
        "\"\"\"\n",
        "\n",
        "\n",
        "completion = openai.ChatCompletion.create(model=\"gpt-3.5-turbo\", messages=[{\"role\": \"user\", \"content\": prompt}])\n",
        "print(completion.choices[0].message.content)"
      ]
    }
  ]
}